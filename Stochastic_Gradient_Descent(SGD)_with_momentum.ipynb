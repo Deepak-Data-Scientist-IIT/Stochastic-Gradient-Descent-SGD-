{
  "nbformat": 4,
  "nbformat_minor": 0,
  "metadata": {
    "colab": {
      "name": "Stochastic Gradient Descent(SGD) with momentum.ipynb",
      "provenance": [],
      "authorship_tag": "ABX9TyMlSe7i1FC+A9uhShY2y2xl",
      "include_colab_link": true
    },
    "kernelspec": {
      "name": "python3",
      "display_name": "Python 3"
    }
  },
  "cells": [
    {
      "cell_type": "markdown",
      "metadata": {
        "id": "view-in-github",
        "colab_type": "text"
      },
      "source": [
        "<a href=\"https://colab.research.google.com/github/Deepak-Data-Scientist-IIT/Stochastic-Gradient-Descent-SGD-/blob/master/Stochastic_Gradient_Descent(SGD)_with_momentum.ipynb\" target=\"_parent\"><img src=\"https://colab.research.google.com/assets/colab-badge.svg\" alt=\"Open In Colab\"/></a>"
      ]
    },
    {
      "cell_type": "code",
      "metadata": {
        "id": "UaV3E1IDohmY",
        "colab_type": "code",
        "colab": {}
      },
      "source": [
        "# importing libraries\n",
        "import numpy as np\n",
        "import matplotlib.pyplot as plt\n",
        "%matplotlib inline"
      ],
      "execution_count": 1,
      "outputs": []
    },
    {
      "cell_type": "code",
      "metadata": {
        "id": "6tkGcZedppLS",
        "colab_type": "code",
        "colab": {
          "base_uri": "https://localhost:8080/",
          "height": 156
        },
        "outputId": "52dbf1b5-159d-4830-97e0-c57ed1b81056"
      },
      "source": [
        "# Creating the input array\n",
        "X=np.array([[1,0,1,0], [1,0,1,1], [0,1,0,1]])\n",
        "\n",
        "# Converting the input in matrix\n",
        "X = X.T\n",
        "print('\\n input:')\n",
        "print(X)\n",
        "\n",
        "# Shape of input array\n",
        "print('\\n shape of array:', X.shape)"
      ],
      "execution_count": 2,
      "outputs": [
        {
          "output_type": "stream",
          "text": [
            "\n",
            " input:\n",
            "[[1 1 0]\n",
            " [0 0 1]\n",
            " [1 1 0]\n",
            " [0 1 1]]\n",
            "\n",
            " shape of array: (4, 3)\n"
          ],
          "name": "stdout"
        }
      ]
    },
    {
      "cell_type": "code",
      "metadata": {
        "id": "k3zaDAFdqo6o",
        "colab_type": "code",
        "colab": {
          "base_uri": "https://localhost:8080/",
          "height": 104
        },
        "outputId": "aed16ed5-ddbb-4ff5-e8a6-8f37f95e1ab4"
      },
      "source": [
        "# creating the output array\n",
        "y=np.array([[1],[1],[0]])\n",
        "\n",
        "# Output in matrix form\n",
        "y = y.T\n",
        "print('\\n Actual Output:')\n",
        "print(y)\n",
        "\n",
        "# Shape of Output array\n",
        "print('\\n shape of output:', y.shape)"
      ],
      "execution_count": 3,
      "outputs": [
        {
          "output_type": "stream",
          "text": [
            "\n",
            " Actual Output:\n",
            "[[1 1 0]]\n",
            "\n",
            " shape of output: (1, 3)\n"
          ],
          "name": "stdout"
        }
      ]
    },
    {
      "cell_type": "code",
      "metadata": {
        "id": "0KtbGfqDrdvx",
        "colab_type": "code",
        "colab": {}
      },
      "source": [
        "# Defining the sigmoid function\n",
        "def sigmoid (x):\n",
        "  return 1/(1 + np.exp(-x))"
      ],
      "execution_count": 4,
      "outputs": []
    },
    {
      "cell_type": "code",
      "metadata": {
        "id": "7S2wTWy0r7hJ",
        "colab_type": "code",
        "colab": {}
      },
      "source": [
        "# Defining the Hyperparameter of the model\n",
        "lr = 0.01 # Learning Rate\n",
        "inputlayer_neurons = X.shape[0] # Number of feature in dataset\n",
        "hiddenlayer_neurons = 3 # Number of hidden layer neurons\n",
        "output_neurons = 1  # Number of neurons at output layer\n",
        "\n",
        "epochs = 10000  # Number of epochs"
      ],
      "execution_count": 5,
      "outputs": []
    },
    {
      "cell_type": "code",
      "metadata": {
        "id": "xLRmFGIxs4sM",
        "colab_type": "code",
        "colab": {}
      },
      "source": [
        "# initializing weight\n",
        "w_ih = np.random.uniform(size=(inputlayer_neurons, hiddenlayer_neurons))\n",
        "w_ho = np.random.uniform(size=(hiddenlayer_neurons, output_neurons))"
      ],
      "execution_count": 7,
      "outputs": []
    },
    {
      "cell_type": "code",
      "metadata": {
        "id": "Hb1m1RsWtYLi",
        "colab_type": "code",
        "colab": {}
      },
      "source": [
        "# defining the momentum parameters\n",
        "beta = 0.9\n",
        "v_ho = 0\n",
        "v_ih = 0"
      ],
      "execution_count": 8,
      "outputs": []
    },
    {
      "cell_type": "code",
      "metadata": {
        "id": "BGsaALcPtzp5",
        "colab_type": "code",
        "colab": {}
      },
      "source": [
        "error_momentum = []\n",
        "for i in range(epochs):\n",
        "  # Forward Propogation\n",
        "\n",
        "  # hidden layer activation\n",
        "  hidden_layer_input = np.dot(w_ih.T, X)\n",
        "  hiddenlayer_activations= sigmoid(hidden_layer_input)\n",
        "  \n",
        "  # Calculating the output\n",
        "  output_layer_input = np.dot(w_ho.T, hiddenlayer_activations)\n",
        "  output = sigmoid(output_layer_input)\n",
        "\n",
        "\n",
        "  # Backward Propogation\n",
        "\n",
        "  # Calculating error\n",
        "  error = np.square(y-output)/2\n",
        "  error_wrt_output = -(y-output)\n",
        "  output_wrt_Z2 = np.multiply(output,(1-output))\n",
        "  Z2_wrt_who = hiddenlayer_activations\n",
        "\n",
        "\n",
        "  # rate of change of error w.r.t weight between output and hidden layer\n",
        "  error_wrt_who = np.dot(Z2_wrt_who,(error_wrt_output*output_wrt_Z2).T)\n",
        "  Z2_wrt_h1 = w_ho\n",
        "  h1_wrt_Z1= np.multiply(hiddenlayer_activations,(1-hiddenlayer_activations))\n",
        "  Z1_wrt_wih = X\n",
        "\n",
        "  # rate of change of error w.r.t weights between input and hidden layer\n",
        "  error_wrt_wih = np.dot(Z1_wrt_wih,(h1_wrt_Z1*np.dot(Z2_wrt_h1,(error_wrt_output*output_wrt_Z2))).T)\n",
        "\n",
        "  # weighted gradient\n",
        "  v_ho = beta * v_ho + (1-beta)* error_wrt_who\n",
        "  w_ho = w_ho - lr * v_ho\n",
        "  v_ih = beta * v_ih + (1-beta)* error_wrt_wih\n",
        "  w_ih = w_ih - lr * v_ih\n",
        "\n",
        "  # appending the error of each epoch\n",
        "  error_momentum.append(np.average(error))"
      ],
      "execution_count": 13,
      "outputs": []
    },
    {
      "cell_type": "code",
      "metadata": {
        "id": "FnQ4X6Fq0MKk",
        "colab_type": "code",
        "colab": {
          "base_uri": "https://localhost:8080/",
          "height": 287
        },
        "outputId": "27464a77-37bd-4e03-ea6c-bed1be4852ec"
      },
      "source": [
        "# visualizing the error after each epoch\n",
        "plt.plot(np.arange(1,epochs+1), np.array(error_momentum))"
      ],
      "execution_count": 14,
      "outputs": [
        {
          "output_type": "execute_result",
          "data": {
            "text/plain": [
              "[<matplotlib.lines.Line2D at 0x7f3df8011780>]"
            ]
          },
          "metadata": {
            "tags": []
          },
          "execution_count": 14
        },
        {
          "output_type": "display_data",
          "data": {
            "image/png": "[encoded data removed]",
            "text/plain": [
              "<Figure size 432x288 with 1 Axes>"
            ]
          },
          "metadata": {
            "tags": [],
            "needs_background": "light"
          }
        }
      ]
    }
  ]
}